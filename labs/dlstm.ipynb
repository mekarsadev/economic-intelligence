{
 "cells": [
  {
   "cell_type": "code",
   "execution_count": 1,
   "id": "2b18411d-836a-4019-85c3-c2a4ae130608",
   "metadata": {
    "tags": []
   },
   "outputs": [],
   "source": [
    "import sys\n",
    "import os\n",
    "\n",
    "SCRIPT_DIR = os.path.dirname(os.path.abspath('src'))\n",
    "sys.path.append(os.path.dirname(SCRIPT_DIR))"
   ]
  },
  {
   "cell_type": "code",
   "execution_count": 2,
   "id": "ccbd2379-e83e-4140-8a15-2a2cf77f1384",
   "metadata": {
    "tags": []
   },
   "outputs": [],
   "source": [
    "from src.utils.nlstm import LSTMDeepModel"
   ]
  },
  {
   "cell_type": "code",
   "execution_count": 3,
   "id": "a7cea997-cd4a-42a4-8a07-8b01804fe27b",
   "metadata": {
    "tags": []
   },
   "outputs": [],
   "source": [
    "input_size = 7\n",
    "hidden_sizes = [4,3,2]\n",
    "output_size = 1"
   ]
  },
  {
   "cell_type": "code",
   "execution_count": 4,
   "id": "8d7b0a07-e96f-4152-beba-64609c8ed93b",
   "metadata": {
    "tags": []
   },
   "outputs": [
    {
     "name": "stdout",
     "output_type": "stream",
     "text": [
      "[(tensor([[[0., 0., 0., 0.]]]), tensor([[[0., 0., 0., 0.]]]))]\n",
      "[(tensor([[[0., 0., 0., 0.]]]), tensor([[[0., 0., 0., 0.]]])), (tensor([[[0., 0., 0.]]]), tensor([[[0., 0., 0.]]]))]\n",
      "[(tensor([[[0., 0., 0., 0.]]]), tensor([[[0., 0., 0., 0.]]])), (tensor([[[0., 0., 0.]]]), tensor([[[0., 0., 0.]]])), (tensor([[[0., 0.]]]), tensor([[[0., 0.]]]))]\n"
     ]
    }
   ],
   "source": [
    "model = LSTMDeepModel(input_size, hidden_sizes, output_size)"
   ]
  },
  {
   "cell_type": "code",
   "execution_count": 5,
   "id": "e96fe6e8-000f-4c1c-af98-653c88a52018",
   "metadata": {
    "tags": []
   },
   "outputs": [
    {
     "data": {
      "text/plain": [
       "<bound method Module.parameters of LSTMDeepModel()>"
      ]
     },
     "execution_count": 5,
     "metadata": {},
     "output_type": "execute_result"
    }
   ],
   "source": [
    "model.parameters"
   ]
  }
 ],
 "metadata": {
  "kernelspec": {
   "display_name": "Python 3 (ipykernel)",
   "language": "python",
   "name": "python3"
  },
  "language_info": {
   "codemirror_mode": {
    "name": "ipython",
    "version": 3
   },
   "file_extension": ".py",
   "mimetype": "text/x-python",
   "name": "python",
   "nbconvert_exporter": "python",
   "pygments_lexer": "ipython3",
   "version": "3.10.11"
  }
 },
 "nbformat": 4,
 "nbformat_minor": 5
}
